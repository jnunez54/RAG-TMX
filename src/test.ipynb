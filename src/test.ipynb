{
 "cells": [
  {
   "cell_type": "code",
   "execution_count": 1,
   "metadata": {},
   "outputs": [],
   "source": [
    "import os\n",
    "\n",
    "from agents import MainAgent\n",
    "from config.config import GLOBAL_PATH\n",
    "from config.logger_config import setup_logger\n",
    "from database import DBHandler\n",
    "from logging import DEBUG\n",
    "from scrapper import Scrapper"
   ]
  },
  {
   "cell_type": "markdown",
   "metadata": {},
   "source": [
    "## Instance the DB Handler"
   ]
  },
  {
   "cell_type": "markdown",
   "metadata": {},
   "source": [
    "If no segments, the scrapping and processing tasks are executed"
   ]
  },
  {
   "cell_type": "code",
   "execution_count": 2,
   "metadata": {},
   "outputs": [],
   "source": [
    "db_handler = DBHandler()\n",
    "\n",
    "if db_handler.collection.count()==0:\n",
    "    scrapper = Scrapper()\n",
    "    scrapper.get_content()\n",
    "    \n",
    "    db_handler.store_segments(scrapper.content)"
   ]
  },
  {
   "cell_type": "markdown",
   "metadata": {},
   "source": [
    "## Instance the agent"
   ]
  },
  {
   "cell_type": "code",
   "execution_count": 3,
   "metadata": {},
   "outputs": [],
   "source": [
    "agent = MainAgent(db_handler)"
   ]
  },
  {
   "cell_type": "markdown",
   "metadata": {},
   "source": [
    "# Test Propmpts"
   ]
  },
  {
   "cell_type": "code",
   "execution_count": 4,
   "metadata": {},
   "outputs": [],
   "source": [
    "prompts = [\"Cuanto cuesta tramitar el CURP?\",\n",
    "           \"Y el acta de nacimiento?\",\n",
    "           \"Cuanto cuesta en Puebla\",\n",
    "           \"Que tramites son útiles si mi vehiculo fue robado\",\n",
    "           \"Debo pagar por reponer mi placa?\",\n",
    "           \"La cartilla militar se puede tramitar en linea?\",\n",
    "           \"Y el pasaporte?\",\n",
    "           \"Cómo crear un RAG desde 0\"]"
   ]
  },
  {
   "cell_type": "code",
   "execution_count": null,
   "metadata": {},
   "outputs": [
    {
     "name": "stdout",
     "output_type": "stream",
     "text": [
      "User: Cuanto cuesta tramitar el CURP?\n",
      "Assistant: \n",
      "User: Y el acta de nacimiento?\n",
      "Assistant: \n",
      "User: Cuanto cuesta en Puebla\n",
      "Assistant: \n",
      "User: Que tramites son útiles si mi vehiculo fue robado\n",
      "Assistant: \n",
      "User: Debo pagar por reponer mi placa?\n",
      "Assistant: \n",
      "User: La cartilla militar se puede tramitar en linea?\n",
      "Assistant: \n",
      "User: Y el pasaporte?\n",
      "Assistant: \n",
      "User: Cómo crear un RAG desde 0\n"
     ]
    }
   ],
   "source": [
    "for prompt in prompts:\n",
    "    print(f\"User: {prompt}\")\n",
    "    response = agent.chat(prompt, streaming=False)\n",
    "\n",
    "    print(f\"Assistant: {response}\")"
   ]
  }
 ],
 "metadata": {
  "kernelspec": {
   "display_name": "rag2",
   "language": "python",
   "name": "python3"
  },
  "language_info": {
   "codemirror_mode": {
    "name": "ipython",
    "version": 3
   },
   "file_extension": ".py",
   "mimetype": "text/x-python",
   "name": "python",
   "nbconvert_exporter": "python",
   "pygments_lexer": "ipython3",
   "version": "3.13.1"
  }
 },
 "nbformat": 4,
 "nbformat_minor": 2
}

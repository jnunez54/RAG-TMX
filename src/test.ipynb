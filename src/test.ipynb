{
 "cells": [
  {
   "cell_type": "code",
   "execution_count": 1,
   "metadata": {},
   "outputs": [],
   "source": [
    "import os\n",
    "\n",
    "from agents import MainAgent\n",
    "from config.config import GLOBAL_PATH\n",
    "from config.logger_config import setup_logger\n",
    "from database import DBHandler\n",
    "from logging import DEBUG\n",
    "from scrapper import Scrapper"
   ]
  },
  {
   "cell_type": "markdown",
   "metadata": {},
   "source": [
    "## Instance the DB Handler"
   ]
  },
  {
   "cell_type": "markdown",
   "metadata": {},
   "source": [
    "If no segments, the scrapping and processing tasks are executed"
   ]
  },
  {
   "cell_type": "code",
   "execution_count": 2,
   "metadata": {},
   "outputs": [],
   "source": [
    "db_handler = DBHandler()\n",
    "\n",
    "if db_handler.collection.count()==0:\n",
    "    scrapper = Scrapper()\n",
    "    scrapper.get_content()\n",
    "    \n",
    "    db_handler.store_segments(scrapper.content)"
   ]
  },
  {
   "cell_type": "markdown",
   "metadata": {},
   "source": [
    "## Instance the agent"
   ]
  },
  {
   "cell_type": "code",
   "execution_count": 3,
   "metadata": {},
   "outputs": [],
   "source": [
    "agent = MainAgent(db_handler)"
   ]
  },
  {
   "cell_type": "markdown",
   "metadata": {},
   "source": [
    "# Test Propmpts"
   ]
  },
  {
   "cell_type": "code",
   "execution_count": 4,
   "metadata": {},
   "outputs": [],
   "source": [
    "prompts = [\"Cuanto cuesta tramitar el CURP?\",\n",
    "           \"Y el acta de nacimiento?\",\n",
    "           \"Cuanto cuesta en Puebla\",\n",
    "           \"Que tramites son útiles si mi vehiculo fue robado\",\n",
    "           \"Debo pagar por reponer mi placa?\",\n",
    "           \"La cartilla militar se puede tramitar en linea?\",\n",
    "           \"Y el pasaporte?\",\n",
    "           \"Cómo crear un RAG desde 0\"]"
   ]
  },
  {
   "cell_type": "code",
   "execution_count": 5,
   "metadata": {},
   "outputs": [
    {
     "name": "stdout",
     "output_type": "stream",
     "text": [
      "User: Cuanto cuesta tramitar el CURP?\n",
      "Assistant: El trámite para obtener la Clave Única de Registro de Población (CURP) es gratuito. No se requiere ningún documento, pero es importante tener a la mano los datos de tu documento probatorio de identidad. \n",
      "\n",
      "Para más información, puedes consultar la página oficial [aquí](https://www.gob.mx/tramites/ficha/consulta-e-impresion-de-la-curp/SEGOB175).\n",
      "\n",
      "User: Y el acta de nacimiento?\n",
      "Assistant: El costo para tramitar una copia certificada del acta de nacimiento varía según el estado en México. Aquí tienes algunos ejemplos de los costos:\n",
      "\n",
      "- Aguascalientes: $100.00 MXN\n",
      "- Ciudad de México: $94.00 MXN\n",
      "- Jalisco: $95.00 MXN\n",
      "- Veracruz: $199.00 MXN\n",
      "- Quintana Roo: $54.00 MXN\n",
      "\n",
      "Además, si necesitas solicitar una copia certificada en una oficina consular de México en el extranjero, el costo es de $19.00 USD.\n",
      "\n",
      "Para más información sobre los costos específicos en tu estado y el proceso de trámite, puedes consultar las siguientes páginas:\n",
      "\n",
      "- [Copia certificada del acta de nacimiento en oficina consular](https://www.gob.mx/tramites/ficha/copia-certificada-del-acta-de-nacimiento-autorizada-en-una-oficina-consular-de-mexico-en-el-exterior/SRE95)\n",
      "- [Expedición de la copia certificada del acta de nacimiento en línea](https://www.gob.mx/tramites/ficha/expedicion-de-la-copia-certificada-del-acta-de-nacimiento-en-linea/RENAPO187)\n",
      "\n",
      "User: Cuanto cuesta en Puebla\n",
      "Assistant: El costo para tramitar una copia certificada del acta de nacimiento en Puebla es de $160.00 MXN.\n",
      "\n",
      "Para más información sobre el trámite, puedes consultar la página oficial [aquí](https://www.gob.mx/tramites/ficha/expedicion-de-la-copia-certificada-del-acta-de-nacimiento-en-linea/RENAPO187).\n",
      "\n",
      "User: Que tramites son útiles si mi vehiculo fue robado\n",
      "Assistant: Lo siento, pero no tengo información disponible para responder tu pregunta en este momento. Si tienes otra consulta o necesitas ayuda con algo más, ¡estaré encantado de ayudarte!\n",
      "\n",
      "User: Debo pagar por reponer mi placa?\n",
      "Assistant: Sí, debes pagar por reponer la placa de tu vehículo. El costo para la reposición de placas metálicas es de $1,190.00 MXN. Además, si necesitas reponer la tarjeta de circulación, el costo es de $277.00 MXN.\n",
      "\n",
      "Para más información sobre el trámite, puedes consultar la página oficial [aquí](https://www.gob.mx/tramites/ficha/reposicion-de-tarjeta-de-circulacion-y-o-placas-metalicas-de-identificacion/SCT1438).\n",
      "\n",
      "User: La cartilla militar se puede tramitar en linea?\n",
      "Assistant: No se menciona específicamente en el contexto si se puede tramitar la cartilla militar en línea. Sin embargo, se indica que hay trámites que se pueden realizar en línea a través del Instituto de Seguridad Social para las Fuerzas Armadas Mexicanas (ISSFAM). Para obtener información más detallada sobre el trámite de la cartilla militar, te recomiendo consultar directamente en el sitio oficial del ISSFAM o en la página de trámites del gobierno.\n",
      "\n",
      "Puedes visitar el siguiente enlace para más información: [ISSFAM](https://www.gob.mx/tramites/ficha/pago-de-diferencias/ISSFAM8837).\n",
      "\n",
      "User: Y el pasaporte?\n",
      "Assistant: No se puede tramitar el pasaporte completamente en línea. Sin embargo, puedes realizar la cita en línea para el trámite del pasaporte en las Delegaciones de la Secretaría de Relaciones Exteriores (SRE) o en las Oficinas Estatales y Municipales de Enlace con la SRE. El trámite debe completarse de manera presencial.\n",
      "\n",
      "Para más información sobre el trámite del pasaporte, puedes consultar las siguientes páginas:\n",
      "\n",
      "- [Pasaporte Ordinario para Personas Mayores de Edad](https://www.gob.mx/tramites/ficha/pasaporte-ordinario-para-personas-mayores-de-edad/SRE112)\n",
      "- [Pasaporte Ordinario para Menores de Edad](https://www.gob.mx/tramites/ficha/pasaporte-ordinario-para-menores-de-edad-con-la-presencia-de-ambos-padres-o-quienes-ejercen-patria-potestad/SRE117)\n",
      "\n",
      "Si necesitas más detalles, no dudes en preguntar.\n",
      "\n",
      "User: Cómo crear un RAG desde 0\n",
      "Assistant: Lo siento, pero no tengo información disponible para responder tu pregunta en este momento. Si tienes otra consulta o necesitas ayuda con algo más, estaré encantado de intentar ayudarte.\n",
      "\n"
     ]
    }
   ],
   "source": [
    "for prompt in prompts:\n",
    "    print(f\"User: {prompt}\")\n",
    "    response = agent.chat(prompt)\n",
    "    \n",
    "    print(\"Assistant:\", end=\" \", flush=True)\n",
    "    full_response = \"\"\n",
    "    for i in response:\n",
    "        print(i, end=\"\", flush=True)\n",
    "    print(\"\\n\", flush=True)"
   ]
  }
 ],
 "metadata": {
  "kernelspec": {
   "display_name": "rag2",
   "language": "python",
   "name": "python3"
  },
  "language_info": {
   "codemirror_mode": {
    "name": "ipython",
    "version": 3
   },
   "file_extension": ".py",
   "mimetype": "text/x-python",
   "name": "python",
   "nbconvert_exporter": "python",
   "pygments_lexer": "ipython3",
   "version": "3.13.1"
  }
 },
 "nbformat": 4,
 "nbformat_minor": 2
}
